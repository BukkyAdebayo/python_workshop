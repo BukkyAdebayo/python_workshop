{
 "metadata": {
  "name": "",
  "signature": "sha256:34f275576db23b3acef8162f5cc3d7a76c011af0b789e796ba8d3b5c83d6c04c"
 },
 "nbformat": 3,
 "nbformat_minor": 0,
 "worksheets": [
  {
   "cells": [
    {
     "cell_type": "heading",
     "level": 1,
     "metadata": {},
     "source": [
      "Python for Data Science"
     ]
    },
    {
     "cell_type": "heading",
     "level": 1,
     "metadata": {},
     "source": [
      "General Assembly - June 6th"
     ]
    },
    {
     "cell_type": "heading",
     "level": 2,
     "metadata": {},
     "source": [
      "First Task"
     ]
    },
    {
     "cell_type": "markdown",
     "metadata": {},
     "source": [
      "With your best knowledge, write a python script that:\n",
      "\n",
      "+ Load a file from a website (http://stat.columbia.edu/~rachel/datasets/nyt1.csv)\n",
      "+ From that file, counts the number of 1s and 0s under the 'Gender' column, and the number of 1s and 0s under the 'Age' column"
     ]
    },
    {
     "cell_type": "heading",
     "level": 2,
     "metadata": {},
     "source": [
      "One Solution Using __csv__"
     ]
    },
    {
     "cell_type": "markdown",
     "metadata": {},
     "source": [
      "Read script below\n",
      "\n",
      "```c\n",
      "cd ~/Downloads\n",
      "\n",
      "# RUN ON MAC\n",
      "curl http://stat.columbia.edu/~rachel/datasets/nyt1.csv > nyt1.cs\n",
      "\n",
      "# OR LINUX\n",
      "wget http://stat.columbia.edu/~rachel/datasets/nyt1.csv > nyt1.csv\n",
      "\n",
      "# OR WINDOWS\n",
      "Invoke-WebRequest http://stat.columbia.edu/~rachel/datasets/nyt1.csv -OutFile nyt1.csv```"
     ]
    },
    {
     "cell_type": "code",
     "collapsed": false,
     "input": [
      "\"\"\"\n",
      "Download the file into ~/Documents\n",
      "to run: python nytimes_counter.py\n",
      "\"\"\"\n",
      "!cd ~/Documents; curl http://stat.columbia.edu/~rachel/datasets/nyt1.csv > nyt1.csv\n",
      "# Import required libraries\n",
      "import csv\n",
      "\n",
      "# Start a counter and store the textfile in memory\n",
      "gender_counter = {}\n",
      "age_counter = {}\n",
      "\n",
      "lines = csv.reader(open('/Users/bukkyadebayo/Documents/nyt1.csv'))\n",
      "lines.next()\n",
      "\n",
      "# For each line, fill in the counters\n",
      "for line in lines:\n",
      "    age, gender, impressions, clicks, signed_in = line\n",
      "    if str(gender) not in gender_counter:\n",
      "        gender_counter[gender] = 0\n",
      "    gender_counter[gender] += 1\n",
      "    if str(age) not in age_counter:\n",
      "        age_counter[age] = 0\n",
      "    age_counter[age] += 1\n",
      "\n",
      "print \"Gender 0: \", gender_counter['0']\n",
      "print \"Gender 1: \", gender_counter['1']\n",
      "print \"Ages: \"\n",
      "print age_counter"
     ],
     "language": "python",
     "metadata": {},
     "outputs": [
      {
       "output_type": "stream",
       "stream": "stdout",
       "text": [
        "  % Total    % Received % Xferd  Average Speed   Time    Time     Time  Current\r\n",
        "                                 Dload  Upload   Total   Spent    Left  Speed\r\n",
        "\r",
        "  0     0    0     0    0     0      0      0 --:--:-- --:--:-- --:--:--     0"
       ]
      },
      {
       "output_type": "stream",
       "stream": "stdout",
       "text": [
        "\r",
        " 11 4805k   11  528k    0     0  1491k      0  0:00:03 --:--:--  0:00:03 1489k"
       ]
      },
      {
       "output_type": "stream",
       "stream": "stdout",
       "text": [
        "\r",
        " 88 4805k   88 4241k    0     0  3092k      0  0:00:01  0:00:01 --:--:-- 3091k"
       ]
      },
      {
       "output_type": "stream",
       "stream": "stdout",
       "text": [
        "\r",
        "100 4805k  100 4805k    0     0  3078k      0  0:00:01  0:00:01 --:--:-- 3078k\r\n"
       ]
      },
      {
       "output_type": "stream",
       "stream": "stdout",
       "text": [
        "Gender 0:  290176\n",
        "Gender 1:  168265\n",
        "Ages: \n",
        "{'24': 3158, '25': 3260, '26': 6405, '27': 6551, '20': 6337, '21': 6384, '22': 6394, '23': 6488, '28': 6359, '29': 6379, '0': 137106, '8': 15, '59': 4900, '58': 4916, '55': 2502, '54': 3515, '57': 5014, '56': 5034, '51': 7147, '50': 6982, '53': 7231, '52': 7165, '88': 155, '89': 128, '82': 548, '83': 483, '80': 751, '81': 618, '86': 228, '87': 211, '84': 369, '85': 298, '7': 5, '108': 1, '102': 2, '103': 2, '100': 4, '101': 4, '107': 2, '104': 1, '39': 7804, '38': 7891, '33': 6431, '32': 6443, '31': 6439, '30': 6617, '37': 7983, '36': 7933, '35': 3932, '34': 3290, '60': 4880, '61': 5012, '62': 5006, '63': 4950, '64': 2524, '65': 1067, '66': 2355, '67': 2250, '68': 2299, '69': 2015, '99': 9, '98': 15, '91': 72, '90': 106, '93': 42, '92': 66, '95': 35, '94': 49, '97': 14, '96': 27, '11': 283, '10': 113, '13': 1059, '12': 586, '15': 2605, '14': 1718, '17': 3953, '16': 3443, '19': 6509, '18': 5424, '48': 7277, '49': 7054, '46': 7202, '47': 7070, '44': 4006, '45': 3645, '42': 7919, '43': 7784, '40': 7702, '41': 7906, '9': 48, '77': 1161, '76': 1257, '75': 1473, '74': 1481, '73': 1681, '72': 1820, '71': 1860, '70': 2033, '79': 825, '78': 936}\n"
       ]
      }
     ],
     "prompt_number": 1
    },
    {
     "cell_type": "heading",
     "level": 2,
     "metadata": {},
     "source": [
      "Using Libraries - ```Pandas```"
     ]
    },
    {
     "cell_type": "code",
     "collapsed": false,
     "input": [
      "import pandas as pd\n",
      "\n",
      "nyt = pd.read_csv('/Users/bukkyadebayo/Documents/nyt1.csv')\n",
      "print \"Gender 0: \", len(nyt[nyt.Gender == 0])\n",
      "print \"Gender 1: \", len(nyt[nyt.Gender == 1])\n",
      "print nyt.groupby('Age').Age.count()"
     ],
     "language": "python",
     "metadata": {},
     "outputs": [
      {
       "output_type": "stream",
       "stream": "stdout",
       "text": [
        "Gender 0:  290176\n",
        "Gender 1:  "
       ]
      },
      {
       "output_type": "stream",
       "stream": "stdout",
       "text": [
        "168265\n",
        "Age\n",
        "0      137106\n",
        "7           5\n",
        "8          15\n",
        "9          48\n",
        "10        113\n",
        "11        283\n",
        "12        586\n",
        "13       1059\n",
        "14       1718\n",
        "15       2605\n",
        "16       3443\n",
        "17       3953\n",
        "18       5424\n",
        "19       6509\n",
        "20       6337\n",
        "...\n",
        "92     66\n",
        "93     42\n",
        "94     49\n",
        "95     35\n",
        "96     27\n",
        "97     14\n",
        "98     15\n",
        "99      9\n",
        "100     4\n",
        "101     4\n",
        "102     2\n",
        "103     2\n",
        "104     1\n",
        "107     2\n",
        "108     1\n",
        "Name: Age, Length: 101, dtype: int64"
       ]
      },
      {
       "output_type": "stream",
       "stream": "stdout",
       "text": [
        "\n"
       ]
      }
     ],
     "prompt_number": 3
    },
    {
     "cell_type": "heading",
     "level": 2,
     "metadata": {},
     "source": [
      "What is Anaconda?"
     ]
    },
    {
     "cell_type": "markdown",
     "metadata": {},
     "source": [
      "Anaconda is \"Completely free enterprise-ready Python distribution for large-scale data processing, predictive analytics, and scientific computing.\" What this really means:\n",
      "\n",
      "- It's a prepackaged version of Python\n",
      "- It includes (mostly) everything that a data scientist would need from Python\n",
      "- It's free!"
     ]
    },
    {
     "cell_type": "heading",
     "level": 2,
     "metadata": {},
     "source": [
      "What is iPython and Notebook?"
     ]
    },
    {
     "cell_type": "markdown",
     "metadata": {},
     "source": [
      "Anaconda comes with two \"versions\" (repls) of python: ipython qt (cutie) console, and Jupyter (which has replaced Notebook). We'll primarily learn and use Notebook today, which is a great tool for data exploration and analysis, and keeping your thoughts organized.\n",
      "\n",
      "###Starting Notebook\n",
      "Find Anaconda's Launcher app, and open it. It'll open something like the following:\n",
      "<img src=\"files/notebooks_image.png\">\n",
      "\n",
      "Click on the ipython-notebook \"launch button,\" which will open a shell window that will then start the notebook. Please leave this window open until you are done with the notebook!\n",
      "<img src=\"files/notebook_screenshot.png\">\n",
      "\n",
      "Notebook runs as a server on your computer, so it will open a window in your internet browser. Under the \"new\" button, click \"Python 2\" and you're good to go!\n",
      "\n",
      "**Note, if you installed Python 3, that should be okay, but be aware that some of today's material may not work.**\n",
      "\n",
      "Finally, you'll come to your notebook for today:\n",
      "<img src=\"files/another_screenshot.png\">\n",
      "\n",
      "We'll be using the following practices to take advantage of the various parts of notebook:\n",
      "\n",
      "- the \"code\" cell allows us to run python code. It'll allow us to write multiple lines of code at a time.\n",
      "- the \"markdown\" cell allows us to save text, add images, etc.\n",
      "\n",
      "With these two cell types we'll take notes for the workshop today, using the following steps:\n",
      "\n",
      "1. Always include a markdown cell above code. Write notes how you'd usually write notes related to code below.\n",
      "2. With code, for those completely fresh to programming, we'll be \"commenting through the code.\" That just means for each line of code there will be a python comment that breaks down each line."
     ]
    },
    {
     "cell_type": "heading",
     "level": 2,
     "metadata": {},
     "source": [
      "Let's Practice"
     ]
    },
    {
     "cell_type": "markdown",
     "metadata": {},
     "source": [
      "With the following cell, we'll go through each line first, explain what it's doing, and then include a markdown cell above/below to summarize what was learned."
     ]
    },
    {
     "cell_type": "code",
     "collapsed": false,
     "input": [
      "x = 7\n",
      "print x + 5\n",
      "\n",
      "# This is a comment! Comments are super helpful!\n",
      "\n",
      "y = 2\n",
      "print x / y\n",
      "print float(x) / float(y)\n",
      "\n",
      "help(x)"
     ],
     "language": "python",
     "metadata": {},
     "outputs": [
      {
       "output_type": "stream",
       "stream": "stdout",
       "text": [
        "12\n",
        "3\n",
        "3.5\n",
        "Help on int object:\n",
        "\n",
        "class int(object)\n",
        " |  int(x=0) -> int or long\n",
        " |  int(x, base=10) -> int or long\n",
        " |  \n",
        " |  Convert a number or string to an integer, or return 0 if no arguments\n",
        " |  are given.  If x is floating point, the conversion truncates towards zero.\n",
        " |  If x is outside the integer range, the function returns a long instead.\n",
        " |  \n",
        " |  If x is not a number or if base is given, then x must be a string or\n",
        " |  Unicode object representing an integer literal in the given base.  The\n",
        " |  literal can be preceded by '+' or '-' and be surrounded by whitespace.\n",
        " |  The base defaults to 10.  Valid bases are 0 and 2-36.  Base 0 means to\n",
        " |  interpret the base from the string as an integer literal.\n",
        " |  >>> int('0b100', base=0)\n",
        " |  4\n",
        " |  \n",
        " |  Methods defined here:\n",
        " |  \n",
        " |  __abs__(...)\n",
        " |      x.__abs__() <==> abs(x)\n",
        " |  \n",
        " |  __add__(...)\n",
        " |      x.__add__(y) <==> x+y\n",
        " |  \n",
        " |  __and__(...)\n",
        " |      x.__and__(y) <==> x&y\n",
        " |  \n",
        " |  __cmp__(...)\n",
        " |      x.__cmp__(y) <==> cmp(x,y)\n",
        " |  \n",
        " |  __coerce__(...)\n",
        " |      x.__coerce__(y) <==> coerce(x, y)\n",
        " |  \n",
        " |  __div__(...)\n",
        " |      x.__div__(y) <==> x/y\n",
        " |  \n",
        " |  __divmod__(...)\n",
        " |      x.__divmod__(y) <==> divmod(x, y)\n",
        " |  \n",
        " |  __float__(...)\n",
        " |      x.__float__() <==> float(x)\n",
        " |  \n",
        " |  __floordiv__(...)\n",
        " |      x.__floordiv__(y) <==> x//y\n",
        " |  \n",
        " |  __format__(...)\n",
        " |  \n",
        " |  __getattribute__(...)\n",
        " |      x.__getattribute__('name') <==> x.name\n",
        " |  \n",
        " |  __getnewargs__(...)\n",
        " |  \n",
        " |  __hash__(...)\n",
        " |      x.__hash__() <==> hash(x)\n",
        " |  \n",
        " |  __hex__(...)\n",
        " |      x.__hex__() <==> hex(x)\n",
        " |  \n",
        " |  __index__(...)\n",
        " |      x[y:z] <==> x[y.__index__():z.__index__()]\n",
        " |  \n",
        " |  __int__(...)\n",
        " |      x.__int__() <==> int(x)\n",
        " |  \n",
        " |  __invert__(...)\n",
        " |      x.__invert__() <==> ~x\n",
        " |  \n",
        " |  __long__(...)\n",
        " |      x.__long__() <==> long(x)\n",
        " |  \n",
        " |  __lshift__(...)\n",
        " |      x.__lshift__(y) <==> x<<y\n",
        " |  \n",
        " |  __mod__(...)\n",
        " |      x.__mod__(y) <==> x%y\n",
        " |  \n",
        " |  __mul__(...)\n",
        " |      x.__mul__(y) <==> x*y\n",
        " |  \n",
        " |  __neg__(...)\n",
        " |      x.__neg__() <==> -x\n",
        " |  \n",
        " |  __nonzero__(...)\n",
        " |      x.__nonzero__() <==> x != 0\n",
        " |  \n",
        " |  __oct__(...)\n",
        " |      x.__oct__() <==> oct(x)\n",
        " |  \n",
        " |  __or__(...)\n",
        " |      x.__or__(y) <==> x|y\n",
        " |  \n",
        " |  __pos__(...)\n",
        " |      x.__pos__() <==> +x\n",
        " |  \n",
        " |  __pow__(...)\n",
        " |      x.__pow__(y[, z]) <==> pow(x, y[, z])\n",
        " |  \n",
        " |  __radd__(...)\n",
        " |      x.__radd__(y) <==> y+x\n",
        " |  \n",
        " |  __rand__(...)\n",
        " |      x.__rand__(y) <==> y&x\n",
        " |  \n",
        " |  __rdiv__(...)\n",
        " |      x.__rdiv__(y) <==> y/x\n",
        " |  \n",
        " |  __rdivmod__(...)\n",
        " |      x.__rdivmod__(y) <==> divmod(y, x)\n",
        " |  \n",
        " |  __repr__(...)\n",
        " |      x.__repr__() <==> repr(x)\n",
        " |  \n",
        " |  __rfloordiv__(...)\n",
        " |      x.__rfloordiv__(y) <==> y//x\n",
        " |  \n",
        " |  __rlshift__(...)\n",
        " |      x.__rlshift__(y) <==> y<<x\n",
        " |  \n",
        " |  __rmod__(...)\n",
        " |      x.__rmod__(y) <==> y%x\n",
        " |  \n",
        " |  __rmul__(...)\n",
        " |      x.__rmul__(y) <==> y*x\n",
        " |  \n",
        " |  __ror__(...)\n",
        " |      x.__ror__(y) <==> y|x\n",
        " |  \n",
        " |  __rpow__(...)\n",
        " |      y.__rpow__(x[, z]) <==> pow(x, y[, z])\n",
        " |  \n",
        " |  __rrshift__(...)\n",
        " |      x.__rrshift__(y) <==> y>>x\n",
        " |  \n",
        " |  __rshift__(...)\n",
        " |      x.__rshift__(y) <==> x>>y\n",
        " |  \n",
        " |  __rsub__(...)\n",
        " |      x.__rsub__(y) <==> y-x\n",
        " |  \n",
        " |  __rtruediv__(...)\n",
        " |      x.__rtruediv__(y) <==> y/x\n",
        " |  \n",
        " |  __rxor__(...)\n",
        " |      x.__rxor__(y) <==> y^x\n",
        " |  \n",
        " |  __str__(...)\n",
        " |      x.__str__() <==> str(x)\n",
        " |  \n",
        " |  __sub__(...)\n",
        " |      x.__sub__(y) <==> x-y\n",
        " |  \n",
        " |  __truediv__(...)\n",
        " |      x.__truediv__(y) <==> x/y\n",
        " |  \n",
        " |  __trunc__(...)\n",
        " |      Truncating an Integral returns itself.\n",
        " |  \n",
        " |  __xor__(...)\n",
        " |      x.__xor__(y) <==> x^y\n",
        " |  \n",
        " |  bit_length(...)\n",
        " |      int.bit_length() -> int\n",
        " |      \n",
        " |      Number of bits necessary to represent self in binary.\n",
        " |      >>> bin(37)\n",
        " |      '0b100101'\n",
        " |      >>> (37).bit_length()\n",
        " |      6\n",
        " |  \n",
        " |  conjugate(...)\n",
        " |      Returns self, the complex conjugate of any int.\n",
        " |  \n",
        " |  ----------------------------------------------------------------------\n",
        " |  Data descriptors defined here:\n",
        " |  \n",
        " |  denominator\n",
        " |      the denominator of a rational number in lowest terms\n",
        " |  \n",
        " |  imag\n",
        " |      the imaginary part of a complex number\n",
        " |  \n",
        " |  numerator\n",
        " |      the numerator of a rational number in lowest terms\n",
        " |  \n",
        " |  real\n",
        " |      the real part of a complex number\n",
        " |  \n",
        " |  ----------------------------------------------------------------------\n",
        " |  Data and other attributes defined here:\n",
        " |  \n",
        " |  __new__ = <built-in method __new__ of type object>\n",
        " |      T.__new__(S, ...) -> a new object with type S, a subtype of T\n"
       ]
      },
      {
       "output_type": "stream",
       "stream": "stdout",
       "text": [
        "\n"
       ]
      }
     ],
     "prompt_number": 5
    },
    {
     "cell_type": "markdown",
     "metadata": {},
     "source": [
      "##Basic Data Types: Strings, Lists, Tuples\n",
      "Try the same thing on your own to learn about the following python objects: strings, lists, and tuples."
     ]
    },
    {
     "cell_type": "code",
     "collapsed": false,
     "input": [
      "some_string1 = 'apples'\n",
      "some_string2 = 'and'\n",
      "some_string3 = 'bananas'\n",
      "print some_string1, some_string2, some_string3\n",
      "print some_string1 + some_string2 + some_string3\n",
      "\n",
      "mutable_list = [\"apple\", \"apple\", \"banana\", \"kiwi\", \"bear\", \"strawberry\", \"strawberry\"]\n",
      "immutable_tuple = (\"apple\", \"apple\", \"banana\", \"kiwi\", \"bear\", \"strawberry\", \"strawberry\")\n",
      "\n",
      "print len(some_string1)\n",
      "print len(mutable_list)\n",
      "print len(immutable_tuple)\n",
      "\n",
      "print some_string1[0:5]\n",
      "print mutable_list[0:4]\n",
      "print immutable_tuple[5:6]\n",
      "\n",
      "try:\n",
      "    some_string1[5] = 'd'\n",
      "except TypeError as e:\n",
      "    print e\n",
      "\n",
      "mutable_list[5] = 'mango'\n",
      "try:\n",
      "    immutable_tuple[5] = 'not going to work'\n",
      "except TypeError as e:\n",
      "    print e\n",
      "\n",
      "a = [3 for i in range(10)]\n",
      "print a"
     ],
     "language": "python",
     "metadata": {},
     "outputs": [
      {
       "output_type": "stream",
       "stream": "stdout",
       "text": [
        "apples and bananas\n",
        "applesandbananas\n",
        "6\n",
        "7\n",
        "7\n",
        "apple\n",
        "['apple', 'apple', 'banana', 'kiwi']\n",
        "('strawberry',)\n",
        "'str' object does not support item assignment\n",
        "'tuple' object does not support item assignment\n",
        "[3, 3, 3, 3, 3, 3, 3, 3, 3, 3]\n"
       ]
      }
     ],
     "prompt_number": 6
    },
    {
     "cell_type": "markdown",
     "metadata": {},
     "source": [
      "##Libraries for Data Science\n",
      "Data Scientists use a wide variety of libraries in Python that make working with data significantly easier. Those libraries primarily consist of:\n",
      "```\n",
      "1.numpy\n",
      "2.scipy\n",
      "3.pandas\n",
      "4.matplotlib\n",
      "5.statsmodels\n",
      "6.scikit-learn\n",
      "7.nltk\n",
      "```\n",
      "\n",
      "Though there are countless others available.\n",
      "\n",
      "For today, we'll primarily focus ourselves around the library that is 99% of our work: ```pandas```.\n",
      "\n",
      "##```pandas``` and object oriented programming\n",
      "pandas is a library built on top of numpy, which allows us to use excel-like matrices in the python programming space. These special matrices are called ```DataFrames```, the primary object in ```pandas```.\n",
      "\n",
      "Earlier we loaded up the csv file from our computer; ```pandas``` can also parse from a URL."
     ]
    },
    {
     "cell_type": "code",
     "collapsed": false,
     "input": [
      "nyt = pd.read_csv('http://stat.columbia.edu/~rachel/datasets/nyt1.csv')"
     ],
     "language": "python",
     "metadata": {},
     "outputs": [],
     "prompt_number": 7
    },
    {
     "cell_type": "markdown",
     "metadata": {},
     "source": [
      "Like with everything else in python, the DataFrame is an object. We'll use a function called type to identify the object name:"
     ]
    },
    {
     "cell_type": "code",
     "collapsed": false,
     "input": [
      "print type(nyt)"
     ],
     "language": "python",
     "metadata": {},
     "outputs": [
      {
       "output_type": "stream",
       "stream": "stdout",
       "text": [
        "<class 'pandas.core.frame.DataFrame'>\n"
       ]
      }
     ],
     "prompt_number": 8
    },
    {
     "cell_type": "markdown",
     "metadata": {},
     "source": [
      "This translates to:\n",
      "\n",
      "Found in the pandas library...\n",
      "1. ... in the core module...\n",
      "2. ... in the frame module...\n",
      "3. ...as a class, DataFrame\n",
      "\n",
      "Objects in python are filled with variables and functions, and we use dot notation to access them.\n",
      "\n",
      "```python\n",
      "# object.variable\n",
      "nyt.dtypes\n",
      "# object.function()\n",
      "nyt.describe()\n",
      "```\n",
      "One great advantage with iPython is it has tab completion which means we can type ```nyt.```, press tab, and it'll show us what variables and functions exist.\n",
      "\n",
      "###Practice this with the following code cell with the following steps:\n",
      "1. wrap the code with the type function: what data type does it return?\n",
      "2. if it returns an \"instancemethod\" object, try the wrapper with a () to excute the function. What data type does the function return?"
     ]
    },
    {
     "cell_type": "code",
     "collapsed": false,
     "input": [
      "# example:\n",
      "print nyt.dtypes\n",
      "nyt.dtypes?\n",
      "print type(nyt.dtypes)"
     ],
     "language": "python",
     "metadata": {},
     "outputs": [
      {
       "output_type": "stream",
       "stream": "stdout",
       "text": [
        "Age            int64\n",
        "Gender         int64\n",
        "Impressions    int64\n",
        "Clicks         int64\n",
        "Signed_In      int64\n",
        "dtype: object\n",
        "<class 'pandas.core.series.Series'>\n"
       ]
      }
     ],
     "prompt_number": 9
    },
    {
     "cell_type": "markdown",
     "metadata": {},
     "source": [
      "##Exercise: early data exploration and pandas syntax\n",
      "Practice the following steps with these 4 data sets located [here](http://vincentarelbundock.github.io/Rdatasets/datasets.html). Copy the csv link and use that with read_csv to import it.\n",
      "\n",
      "###DATA SETS\n",
      "\n",
      "1. chickwts\n",
      "2. msleep\n",
      "3. Cars93\n",
      "\n",
      "###INSTRUCTIONS\n",
      "1. Import the data into python using pd.read_csv()\n",
      "2. Call the dtypes variable to identify the columns and their data types.\n",
      "3. Call the describe function to collect statistics about numerical data types.\n",
      "4. For each other column (object columns):\n",
      "5. Use dataframe['column'].unique and dataframe.groupby('column')['column'].count()\n",
      "6. Write a short markdown that describes the data set and its columns.\n",
      "\n",
      "##Data Munging basics with pandas\n",
      "What interesting data point do we learn when we run the following code?"
     ]
    },
    {
     "cell_type": "code",
     "collapsed": false,
     "input": [
      "print nyt.groupby(['Signed_In', 'Gender']).Age.describe()"
     ],
     "language": "python",
     "metadata": {},
     "outputs": [
      {
       "output_type": "stream",
       "stream": "stdout",
       "text": [
        "Signed_In  Gender       \n",
        "0          0       count    137106.000000\n",
        "                   mean          0.000000\n",
        "                   std           0.000000\n",
        "                   min           0.000000\n",
        "                   25%           0.000000\n",
        "                   50%           0.000000\n",
        "                   75%           0.000000\n",
        "                   max           0.000000\n",
        "1          0       count    153070.000000\n",
        "                   mean         43.423336\n",
        "                   std          16.763906\n",
        "                   min           7.000000\n",
        "                   25%          30.000000\n",
        "                   50%          42.000000\n",
        "                   75%          55.000000\n",
        "                   max         108.000000\n",
        "           1       count    168265.000000\n",
        "                   mean         40.823701\n",
        "                   std          15.780505\n",
        "                   min           7.000000\n",
        "                   25%          28.000000\n",
        "                   50%          40.000000\n",
        "                   75%          52.000000\n",
        "                   max         107.000000\n",
        "dtype: float64\n"
       ]
      }
     ],
     "prompt_number": 10
    },
    {
     "cell_type": "markdown",
     "metadata": {},
     "source": [
      "In the Signed_In 0 group, we notice both Age and Gender are also always 0. We know this by:\n",
      "\n",
      "- In the Signed_In 0 group, there is only one Gender group as well in the DataFrame Index (0)\n",
      "the min/max age for Signed_in group 0 is also 0.\n",
      "- This intuitively makes sense when working with marketing data: if a user is not logged in, you likely do not know their age or gender either.\n",
      "\n",
      "Data does not always come in forms that we expect, so it is generally a requirement for us to work through a process called \"data munging,\" which is the process of extracting and cleaning up a data set. Given that, we will explore the basics of data munging and aggregation:\n",
      "\n",
      "- Filter\n",
      "- Sort\n",
      "- Select and Unique\n",
      "- Mutate and Transform\n",
      "- Pivot and Aggregate\n",
      "\n",
      "Much of this fits into the Split-Apply-Combine strategy of data analysis, popularized by Hadley Wickham's R package plyr (and later, dplyr). In fact, many of these concepts are shared between R and pandas, the primary difference being the syntax.\n",
      "\n",
      "While we go through each of these examples, take good notes, comment through the code, and write questions that we can come back to.\n",
      "\n",
      "##Filter\n",
      "Say we want to only focus on our marketing analysis on users we have data for--after all, it'd be easier to target users to convert on ads if we have a target demographic that performs well. Earlier we used a filtering command that finds rows that return True."
     ]
    },
    {
     "cell_type": "code",
     "collapsed": false,
     "input": [
      "nyt_signedin_only = nyt[nyt.Signed_In == 1]\n",
      "nyt_signedin_only = nyt[nyt['Signed_In'] == 1]\n",
      "nyt_signedin_only.groupby('Gender').describe()"
     ],
     "language": "python",
     "metadata": {},
     "outputs": [
      {
       "html": [
        "<div style=\"max-height:1000px;max-width:1500px;overflow:auto;\">\n",
        "<table border=\"1\" class=\"dataframe\">\n",
        "  <thead>\n",
        "    <tr style=\"text-align: right;\">\n",
        "      <th></th>\n",
        "      <th></th>\n",
        "      <th>Age</th>\n",
        "      <th>Clicks</th>\n",
        "      <th>Impressions</th>\n",
        "      <th>Signed_In</th>\n",
        "    </tr>\n",
        "    <tr>\n",
        "      <th>Gender</th>\n",
        "      <th></th>\n",
        "      <th></th>\n",
        "      <th></th>\n",
        "      <th></th>\n",
        "      <th></th>\n",
        "    </tr>\n",
        "  </thead>\n",
        "  <tbody>\n",
        "    <tr>\n",
        "      <th rowspan=\"8\" valign=\"top\">0</th>\n",
        "      <th>count</th>\n",
        "      <td> 153070.000000</td>\n",
        "      <td> 153070.000000</td>\n",
        "      <td> 153070.000000</td>\n",
        "      <td> 153070</td>\n",
        "    </tr>\n",
        "    <tr>\n",
        "      <th>mean</th>\n",
        "      <td>     43.423336</td>\n",
        "      <td>      0.073117</td>\n",
        "      <td>      5.012733</td>\n",
        "      <td>      1</td>\n",
        "    </tr>\n",
        "    <tr>\n",
        "      <th>std</th>\n",
        "      <td>     16.763906</td>\n",
        "      <td>      0.271194</td>\n",
        "      <td>      2.238426</td>\n",
        "      <td>      0</td>\n",
        "    </tr>\n",
        "    <tr>\n",
        "      <th>min</th>\n",
        "      <td>      7.000000</td>\n",
        "      <td>      0.000000</td>\n",
        "      <td>      0.000000</td>\n",
        "      <td>      1</td>\n",
        "    </tr>\n",
        "    <tr>\n",
        "      <th>25%</th>\n",
        "      <td>     30.000000</td>\n",
        "      <td>      0.000000</td>\n",
        "      <td>      3.000000</td>\n",
        "      <td>      1</td>\n",
        "    </tr>\n",
        "    <tr>\n",
        "      <th>50%</th>\n",
        "      <td>     42.000000</td>\n",
        "      <td>      0.000000</td>\n",
        "      <td>      5.000000</td>\n",
        "      <td>      1</td>\n",
        "    </tr>\n",
        "    <tr>\n",
        "      <th>75%</th>\n",
        "      <td>     55.000000</td>\n",
        "      <td>      0.000000</td>\n",
        "      <td>      6.000000</td>\n",
        "      <td>      1</td>\n",
        "    </tr>\n",
        "    <tr>\n",
        "      <th>max</th>\n",
        "      <td>    108.000000</td>\n",
        "      <td>      3.000000</td>\n",
        "      <td>     17.000000</td>\n",
        "      <td>      1</td>\n",
        "    </tr>\n",
        "    <tr>\n",
        "      <th rowspan=\"8\" valign=\"top\">1</th>\n",
        "      <th>count</th>\n",
        "      <td> 168265.000000</td>\n",
        "      <td> 168265.000000</td>\n",
        "      <td> 168265.000000</td>\n",
        "      <td> 168265</td>\n",
        "    </tr>\n",
        "    <tr>\n",
        "      <th>mean</th>\n",
        "      <td>     40.823701</td>\n",
        "      <td>      0.069991</td>\n",
        "      <td>      5.008629</td>\n",
        "      <td>      1</td>\n",
        "    </tr>\n",
        "    <tr>\n",
        "      <th>std</th>\n",
        "      <td>     15.780505</td>\n",
        "      <td>      0.266324</td>\n",
        "      <td>      2.239114</td>\n",
        "      <td>      0</td>\n",
        "    </tr>\n",
        "    <tr>\n",
        "      <th>min</th>\n",
        "      <td>      7.000000</td>\n",
        "      <td>      0.000000</td>\n",
        "      <td>      0.000000</td>\n",
        "      <td>      1</td>\n",
        "    </tr>\n",
        "    <tr>\n",
        "      <th>25%</th>\n",
        "      <td>     28.000000</td>\n",
        "      <td>      0.000000</td>\n",
        "      <td>      3.000000</td>\n",
        "      <td>      1</td>\n",
        "    </tr>\n",
        "    <tr>\n",
        "      <th>50%</th>\n",
        "      <td>     40.000000</td>\n",
        "      <td>      0.000000</td>\n",
        "      <td>      5.000000</td>\n",
        "      <td>      1</td>\n",
        "    </tr>\n",
        "    <tr>\n",
        "      <th>75%</th>\n",
        "      <td>     52.000000</td>\n",
        "      <td>      0.000000</td>\n",
        "      <td>      6.000000</td>\n",
        "      <td>      1</td>\n",
        "    </tr>\n",
        "    <tr>\n",
        "      <th>max</th>\n",
        "      <td>    107.000000</td>\n",
        "      <td>      3.000000</td>\n",
        "      <td>     20.000000</td>\n",
        "      <td>      1</td>\n",
        "    </tr>\n",
        "  </tbody>\n",
        "</table>\n",
        "</div>"
       ],
       "metadata": {},
       "output_type": "pyout",
       "prompt_number": 11,
       "text": [
        "                        Age         Clicks    Impressions  Signed_In\n",
        "Gender                                                              \n",
        "0      count  153070.000000  153070.000000  153070.000000     153070\n",
        "       mean       43.423336       0.073117       5.012733          1\n",
        "       std        16.763906       0.271194       2.238426          0\n",
        "       min         7.000000       0.000000       0.000000          1\n",
        "       25%        30.000000       0.000000       3.000000          1\n",
        "       50%        42.000000       0.000000       5.000000          1\n",
        "       75%        55.000000       0.000000       6.000000          1\n",
        "       max       108.000000       3.000000      17.000000          1\n",
        "1      count  168265.000000  168265.000000  168265.000000     168265\n",
        "       mean       40.823701       0.069991       5.008629          1\n",
        "       std        15.780505       0.266324       2.239114          0\n",
        "       min         7.000000       0.000000       0.000000          1\n",
        "       25%        28.000000       0.000000       3.000000          1\n",
        "       50%        40.000000       0.000000       5.000000          1\n",
        "       75%        52.000000       0.000000       6.000000          1\n",
        "       max       107.000000       3.000000      20.000000          1"
       ]
      }
     ],
     "prompt_number": 11
    },
    {
     "cell_type": "markdown",
     "metadata": {},
     "source": [
      "Practice filtering for the following:\n",
      "\n",
      "- rows where age is less than 30\n",
      "- rows where gender is 0 but signed_in is 1\n",
      "- rows where age is less than 30 or more than 60.\n",
      "\n",
      "##Selecting Rows, Columns, and Finding Uniques\n",
      "Earlier we selected columns (or a list of columns) using key notation (like with dictionaries). Pandas also accepts dot notation (akin to an object mapper, or javascript object notation).\n",
      "\n",
      "To select rows based on the index, we can use .ix[], which accepts either keys (when the index is a string) or a range (when the index is integer based). (pandas does allow more specific typing, loc and iloc)\n",
      "\n",
      "Otherwise, passing a range in will do fine."
     ]
    },
    {
     "cell_type": "code",
     "collapsed": false,
     "input": [
      "# Finding the first ten rows\n",
      "print nyt[0:10]\n",
      "\n",
      "# This will still return the first ten rows\n",
      "print nyt.set_index('Age')[0:10]\n",
      "\n",
      "# Since the index is positional, this will also return the first 10 rows.\n",
      "print nyt.ix[0:10]\n",
      "\n",
      "# This first one will work fine, as it returns back all rows where Age == 40.\n",
      "# The second will fail, as .ix does not treat the index as positional, when the index does not represent the row order.\n",
      "print nyt.set_index('Age').ix[99]\n",
      "try:\n",
      "    print nyt.set_index('Age').ix[40:45]\n",
      "except Exception as e:\n",
      "    print e.message\n",
      "\n",
      "# Using dot notation and returning uniques of that column\n",
      "print nyt.Age.head()\n",
      "print nyt.Age.unique()"
     ],
     "language": "python",
     "metadata": {},
     "outputs": [
      {
       "output_type": "stream",
       "stream": "stdout",
       "text": [
        "   Age  Gender  Impressions  Clicks  Signed_In  column_of_ones  \\\n",
        "0   36       0            3       0          1               1   \n",
        "1   73       1            3       0          1               1   \n",
        "2   30       0            3       0          1               1   \n",
        "3   49       1            3       0          1               1   \n",
        "4   47       1           11       0          1               1   \n",
        "5   47       0           11       1          1               1   \n",
        "6    0       0            7       1          0               1   \n",
        "7   46       0            5       0          1               1   \n",
        "8   16       0            3       0          1               1   \n",
        "9   52       0            4       0          1               1   \n",
        "\n",
        "   saw_ad_many_times  Click_Thru  \n",
        "0                  0    0.000000  \n",
        "1                  0    0.000000  \n",
        "2                  0    0.000000  \n",
        "3                  0    0.000000  \n",
        "4                  1    0.000000  \n",
        "5                  1    0.090909  \n",
        "6                  1    0.142857  \n",
        "7                  0    0.000000  \n",
        "8                  0    0.000000  \n",
        "9                  0    0.000000  \n",
        "     Gender  Impressions  Clicks  Signed_In  column_of_ones  \\\n",
        "Age                                                           \n",
        "36        0            3       0          1               1   \n",
        "73        1            3       0          1               1   \n",
        "30        0            3       0          1               1   \n",
        "49        1            3       0          1               1   \n",
        "47        1           11       0          1               1   \n",
        "47        0           11       1          1               1   \n",
        "0         0            7       1          0               1   \n",
        "46        0            5       0          1               1   \n",
        "16        0            3       0          1               1   \n",
        "52        0            4       0          1               1   \n",
        "\n",
        "     saw_ad_many_times  Click_Thru  \n",
        "Age                                 \n",
        "36                   0    0.000000  \n",
        "73                   0    0.000000  \n",
        "30                   0    0.000000  \n",
        "49                   0    0.000000  \n",
        "47                   1    0.000000  \n",
        "47                   1    0.090909  \n",
        "0                    1    0.142857  \n",
        "46                   0    0.000000  \n",
        "16                   0    0.000000  \n",
        "52                   0    0.000000  "
       ]
      },
      {
       "output_type": "stream",
       "stream": "stdout",
       "text": [
        "\n",
        "    Age  Gender  Impressions  Clicks  Signed_In  column_of_ones  \\\n",
        "0    36       0            3       0          1               1   \n",
        "1    73       1            3       0          1               1   \n",
        "2    30       0            3       0          1               1   \n",
        "3    49       1            3       0          1               1   \n",
        "4    47       1           11       0          1               1   \n",
        "5    47       0           11       1          1               1   \n",
        "6     0       0            7       1          0               1   \n",
        "7    46       0            5       0          1               1   \n",
        "8    16       0            3       0          1               1   \n",
        "9    52       0            4       0          1               1   \n",
        "10    0       0            8       1          0               1   \n",
        "\n",
        "    saw_ad_many_times  Click_Thru  \n",
        "0                   0    0.000000  \n",
        "1                   0    0.000000  \n",
        "2                   0    0.000000  \n",
        "3                   0    0.000000  \n",
        "4                   1    0.000000  \n",
        "5                   1    0.090909  \n",
        "6                   1    0.142857  \n",
        "7                   0    0.000000  \n",
        "8                   0    0.000000  \n",
        "9                   0    0.000000  \n",
        "10                  1    0.125000  \n",
        "     Gender  Impressions  Clicks  Signed_In  column_of_ones  \\\n",
        "Age                                                           \n",
        "99        1            9       0          1               1   \n",
        "99        0            6       0          1               1   \n",
        "99        0            7       0          1               1   \n",
        "99        0            5       0          1               1   \n",
        "99        1           12       0          1               1   \n",
        "99        1            8       0          1               1   \n",
        "99        0            6       1          1               1   \n",
        "99        1            3       0          1               1   \n",
        "99        0            5       0          1               1   \n",
        "\n",
        "     saw_ad_many_times  Click_Thru  \n",
        "Age                                 \n",
        "99                   1    0.000000  \n",
        "99                   1    0.000000  \n",
        "99                   1    0.000000  \n",
        "99                   0    0.000000  \n",
        "99                   1    0.000000  \n",
        "99                   1    0.000000  \n",
        "99                   1    0.166667  \n",
        "99                   0    0.000000  \n",
        "99                   0    0.000000  "
       ]
      },
      {
       "output_type": "stream",
       "stream": "stdout",
       "text": [
        "\n",
        "cannot peform a slice operation on a non-unique non-monotonic index"
       ]
      },
      {
       "output_type": "stream",
       "stream": "stdout",
       "text": [
        "\n",
        "0    36\n",
        "1    73\n",
        "2    30\n",
        "3    49\n",
        "4    47\n",
        "Name: Age, dtype: int64\n",
        "[ 36  73  30  49  47   0  46  16  52  21  57  31  40  38  59  61  48  29\n",
        "  19  23  66  44  32  22  74  65  63  35  33  34  43  18  17  62  27  11\n",
        "  42  41  14  64  24  26  39  71  45  28  83  79  67  51  60  58  53  25\n",
        "  50  76  15  78  55  37  56  77  85  82  13  70  84  54  20  10  81  68\n",
        "  72  69  87  80  88  12  86  75  89   9  96 102  98  90  99  91  92  95\n",
        "   8  94  93  97   7 100 103 107 101 108 104]"
       ]
      },
      {
       "output_type": "stream",
       "stream": "stdout",
       "text": [
        "\n"
       ]
      }
     ],
     "prompt_number": 24
    },
    {
     "cell_type": "markdown",
     "metadata": {},
     "source": [
      "##Mutate, Transform ```(apply)```\n",
      "There are a three most common techniques in mutating or transforming the data.\n",
      "\n",
      "One approach would be to directly use values from other columns to derive new columns. The other would be to apply functions to columns using a named or lambda function.\n",
      "\n",
      "You can generate the new columns by defining their name as a key."
     ]
    },
    {
     "cell_type": "code",
     "collapsed": false,
     "input": [
      "nyt['column_of_ones'] = 1\n",
      "\n",
      "nyt['saw_ad_many_times'] = nyt['Impressions'].apply(lambda x: 1 if x > 5 else 0)\n",
      "\n",
      "def saw_ad_func(x):\n",
      "    if x > 5:\n",
      "        return 1\n",
      "    else:\n",
      "        return 0\n",
      "\n",
      "nyt['saw_ad_many_times'] = nyt['Impressions'].apply(saw_ad_func)\n"
     ],
     "language": "python",
     "metadata": {},
     "outputs": [],
     "prompt_number": 25
    },
    {
     "cell_type": "markdown",
     "metadata": {},
     "source": [
      "##Pivot and Aggregate\n",
      "Earlier we saw use of the function groupby. A pandas groupby object has other functionality, such as returning statistics about a column, or all columns, or aggregating only what's defined.\n",
      "\n",
      "Similarly, pivot tables can be used to explore groups side by side."
     ]
    },
    {
     "cell_type": "code",
     "collapsed": false,
     "input": [
      "import numpy as np\n",
      "nyt['column_of_ones'] = 1\n",
      "nyt['Click_Thru'] = nyt['Clicks'] / nyt['Impressions']\n",
      "nyt['Click_Thru'] = nyt['Click_Thru'].apply(lambda x: 0 if x == np.inf else x)\n",
      "nyt_signedin_only = nyt[nyt.Signed_In == 1]\n",
      "nyt_group = nyt.groupby('Age')\n",
      "\n",
      "print nyt_group.mean()"
     ],
     "language": "python",
     "metadata": {},
     "outputs": [
      {
       "output_type": "stream",
       "stream": "stdout",
       "text": [
        "       Gender  Impressions    Clicks  Signed_In  column_of_ones  \\\n",
        "Age                                                               \n",
        "0    0.000000     4.999657  0.142080          0               1   \n",
        "7    0.200000     5.200000  0.600000          1               1   \n",
        "8    0.800000     6.266667  0.266667          1               1   \n",
        "9    0.666667     5.520833  0.104167          1               1   \n",
        "10   0.716814     4.814159  0.168142          1               1   \n",
        "11   0.671378     5.095406  0.127208          1               1   \n",
        "12   0.658703     4.885666  0.156997          1               1   \n",
        "13   0.688385     4.995279  0.149197          1               1   \n",
        "14   0.690338     5.035506  0.133877          1               1   \n",
        "15   0.673704     4.944338  0.150480          1               1   \n",
        "16   0.695033     4.990125  0.151612          1               1   \n",
        "17   0.684290     5.060207  0.152795          1               1   \n",
        "18   0.533186     4.978060  0.084440          1               1   \n",
        "19   0.537563     5.015978  0.047934          1               1   \n",
        "20   0.532429     4.970017  0.046394          1               1   \n",
        "21   0.531642     5.057174  0.049185          1               1   \n",
        "22   0.530185     4.999844  0.049109          1               1   \n",
        "23   0.535296     5.018342  0.050709          1               1   \n",
        "24   0.537999     4.948385  0.046232          1               1   \n",
        "25   0.534969     5.020552  0.044785          1               1   \n",
        "26   0.527869     5.016393  0.050273          1               1   \n",
        "27   0.526790     4.982445  0.050832          1               1   \n",
        "28   0.531687     4.950936  0.047964          1               1   \n",
        "29   0.538642     4.949365  0.047500          1               1   \n",
        "30   0.533626     5.005441  0.055917          1               1   \n",
        "31   0.539059     5.004659  0.053114          1               1   \n",
        "32   0.527704     5.013813  0.052770          1               1   \n",
        "33   0.531333     5.010107  0.049292          1               1   \n",
        "34   0.530699     4.999696  0.048328          1               1   \n",
        "35   0.529756     5.032553  0.050356          1               1   \n",
        "..        ...          ...       ...        ...             ...   \n",
        "77   0.366064     4.965547  0.140396          1               1   \n",
        "78   0.376068     5.133547  0.137821          1               1   \n",
        "79   0.334545     5.071515  0.180606          1               1   \n",
        "80   0.360852     4.797603  0.154461          1               1   \n",
        "81   0.372168     4.946602  0.144013          1               1   \n",
        "82   0.355839     5.094891  0.160584          1               1   \n",
        "83   0.306418     5.039337  0.155280          1               1   \n",
        "84   0.327913     4.918699  0.146341          1               1   \n",
        "85   0.385906     4.835570  0.087248          1               1   \n",
        "86   0.377193     4.982456  0.135965          1               1   \n",
        "87   0.350711     5.052133  0.109005          1               1   \n",
        "88   0.367742     5.019355  0.129032          1               1   \n",
        "89   0.375000     4.984375  0.093750          1               1   \n",
        "90   0.292453     5.084906  0.188679          1               1   \n",
        "91   0.347222     4.583333  0.083333          1               1   \n",
        "92   0.500000     4.878788  0.136364          1               1   \n",
        "93   0.333333     5.047619  0.166667          1               1   \n",
        "94   0.469388     4.918367  0.244898          1               1   \n",
        "95   0.371429     4.942857  0.142857          1               1   \n",
        "96   0.370370     5.333333  0.037037          1               1   \n",
        "97   0.500000     4.928571  0.142857          1               1   \n",
        "98   0.400000     4.066667  0.133333          1               1   \n",
        "99   0.444444     6.777778  0.111111          1               1   \n",
        "100  0.750000     2.500000  0.250000          1               1   \n",
        "101  0.500000     4.000000  0.000000          1               1   \n",
        "102  1.000000     4.500000  0.000000          1               1   \n",
        "103  0.500000     3.500000  0.000000          1               1   \n",
        "104  1.000000     6.000000  1.000000          1               1   \n",
        "107  1.000000     4.500000  0.500000          1               1   \n",
        "108  0.000000     3.000000  0.000000          1               1   \n",
        "\n",
        "     saw_ad_many_times  Click_Thru  \n",
        "Age                                 \n",
        "0             0.384790    0.028163  \n",
        "7             0.600000    0.161905  \n",
        "8             0.666667    0.047727  \n",
        "9             0.541667    0.015410  \n",
        "10            0.371681    0.037927  \n",
        "11            0.374558    0.024330  \n",
        "12            0.373720    0.032845  \n",
        "13            0.356941    0.032343  \n",
        "14            0.387660    0.027167  \n",
        "15            0.376200    0.031154  \n",
        "16            0.385420    0.029977  \n",
        "17            0.392866    0.029798  \n",
        "18            0.386062    0.017216  \n",
        "19            0.386695    0.009459  \n",
        "20            0.379517    0.009249  \n",
        "21            0.395833    0.009686  \n",
        "22            0.388958    0.009536  \n",
        "23            0.387793    0.010445  \n",
        "24            0.371121    0.009372  \n",
        "25            0.388037    0.008157  \n",
        "26            0.387978    0.009848  \n",
        "27            0.378873    0.009932  \n",
        "28            0.366567    0.009945  \n",
        "29            0.376235    0.009380  \n",
        "30            0.378721    0.011010  \n",
        "31            0.382513    0.010645  \n",
        "32            0.389104    0.010908  \n",
        "33            0.381123    0.009593  \n",
        "34            0.387842    0.010725  \n",
        "35            0.393184    0.009553  \n",
        "..                 ...         ...  \n",
        "77            0.389320    0.027600  \n",
        "78            0.398504    0.024683  \n",
        "79            0.403636    0.034830  \n",
        "80            0.354194    0.031228  \n",
        "81            0.370550    0.027966  \n",
        "82            0.401460    0.030109  \n",
        "83            0.383023    0.028516  \n",
        "84            0.376694    0.030057  \n",
        "85            0.352349    0.019090  \n",
        "86            0.390351    0.026231  \n",
        "87            0.369668    0.021293  \n",
        "88            0.412903    0.022389  \n",
        "89            0.414062    0.018930  \n",
        "90            0.386792    0.042041  \n",
        "91            0.347222    0.020833  \n",
        "92            0.318182    0.026846  \n",
        "93            0.452381    0.026502  \n",
        "94            0.367347    0.050308  \n",
        "95            0.371429    0.027494  \n",
        "96            0.407407    0.003704  \n",
        "97            0.428571    0.029762  \n",
        "98            0.200000    0.031746  \n",
        "99            0.666667    0.018519  \n",
        "100           0.000000    0.083333  \n",
        "101           0.000000    0.000000  \n",
        "102           0.500000    0.000000  \n",
        "103           0.000000    0.000000  \n",
        "104           1.000000    0.166667  \n",
        "107           0.000000    0.100000  \n",
        "108           0.000000    0.000000  \n",
        "\n",
        "[101 rows x 7 columns]\n"
       ]
      }
     ],
     "prompt_number": 15
    },
    {
     "cell_type": "code",
     "collapsed": false,
     "input": [
      "print nyt_group['Click_Thru'].mean()"
     ],
     "language": "python",
     "metadata": {},
     "outputs": [
      {
       "output_type": "stream",
       "stream": "stdout",
       "text": [
        "Age\n",
        "0      0.028163\n",
        "7      0.161905\n",
        "8      0.047727\n",
        "9      0.015410\n",
        "10     0.037927\n",
        "11     0.024330\n",
        "12     0.032845\n",
        "13     0.032343\n",
        "14     0.027167\n",
        "15     0.031154\n",
        "16     0.029977\n",
        "17     0.029798\n",
        "18     0.017216\n",
        "19     0.009459\n",
        "20     0.009249\n",
        "...\n",
        "92     0.026846\n",
        "93     0.026502\n",
        "94     0.050308\n",
        "95     0.027494\n",
        "96     0.003704\n",
        "97     0.029762\n",
        "98     0.031746\n",
        "99     0.018519\n",
        "100    0.083333\n",
        "101    0.000000\n",
        "102    0.000000\n",
        "103    0.000000\n",
        "104    0.166667\n",
        "107    0.100000\n",
        "108    0.000000\n",
        "Name: Click_Thru, Length: 101, dtype: float64\n"
       ]
      }
     ],
     "prompt_number": 16
    },
    {
     "cell_type": "code",
     "collapsed": false,
     "input": [
      "print nyt_group.agg({\n",
      "    'Click_Thru': ['mean', 'max'],\n",
      "    'Gender': 'mean',\n",
      "})"
     ],
     "language": "python",
     "metadata": {},
     "outputs": [
      {
       "output_type": "stream",
       "stream": "stdout",
       "text": [
        "       Gender  Click_Thru          \n",
        "         mean        mean       max\n",
        "Age                                \n",
        "0    0.000000    0.028163  1.000000\n",
        "7    0.200000    0.161905  0.333333\n",
        "8    0.800000    0.047727  0.333333\n",
        "9    0.666667    0.015410  0.200000\n",
        "10   0.716814    0.037927  0.500000\n",
        "11   0.671378    0.024330  0.500000\n",
        "12   0.658703    0.032845  1.000000\n",
        "13   0.688385    0.032343  1.000000\n",
        "14   0.690338    0.027167  0.666667\n",
        "15   0.673704    0.031154  1.000000\n",
        "16   0.695033    0.029977  1.000000\n",
        "17   0.684290    0.029798  1.000000\n",
        "18   0.533186    0.017216  1.000000\n",
        "19   0.537563    0.009459  1.000000\n",
        "20   0.532429    0.009249  1.000000\n",
        "21   0.531642    0.009686  0.500000\n",
        "22   0.530185    0.009536  1.000000\n",
        "23   0.535296    0.010445  1.000000\n",
        "24   0.537999    0.009372  0.500000\n",
        "25   0.534969    0.008157  1.000000\n",
        "26   0.527869    0.009848  0.500000\n",
        "27   0.526790    0.009932  1.000000\n",
        "28   0.531687    0.009945  1.000000\n",
        "29   0.538642    0.009380  1.000000\n",
        "30   0.533626    0.011010  1.000000\n",
        "31   0.539059    0.010645  0.666667\n",
        "32   0.527704    0.010908  1.000000\n",
        "33   0.531333    0.009593  1.000000\n",
        "34   0.530699    0.010725  1.000000\n",
        "35   0.529756    0.009553  1.000000\n",
        "..        ...         ...       ...\n",
        "77   0.366064    0.027600  1.000000\n",
        "78   0.376068    0.024683  0.666667\n",
        "79   0.334545    0.034830  1.000000\n",
        "80   0.360852    0.031228  0.750000\n",
        "81   0.372168    0.027966  0.666667\n",
        "82   0.355839    0.030109  1.000000\n",
        "83   0.306418    0.028516  0.600000\n",
        "84   0.327913    0.030057  0.500000\n",
        "85   0.385906    0.019090  1.000000\n",
        "86   0.377193    0.026231  0.500000\n",
        "87   0.350711    0.021293  0.666667\n",
        "88   0.367742    0.022389  0.500000\n",
        "89   0.375000    0.018930  0.500000\n",
        "90   0.292453    0.042041  1.000000\n",
        "91   0.347222    0.020833  0.333333\n",
        "92   0.500000    0.026846  0.333333\n",
        "93   0.333333    0.026502  0.250000\n",
        "94   0.469388    0.050308  0.666667\n",
        "95   0.371429    0.027494  0.333333\n",
        "96   0.370370    0.003704  0.100000\n",
        "97   0.500000    0.029762  0.250000\n",
        "98   0.400000    0.031746  0.333333\n",
        "99   0.444444    0.018519  0.166667\n",
        "100  0.750000    0.083333  0.333333\n",
        "101  0.500000    0.000000  0.000000\n",
        "102  1.000000    0.000000  0.000000\n",
        "103  0.500000    0.000000  0.000000\n",
        "104  1.000000    0.166667  0.166667\n",
        "107  1.000000    0.100000  0.200000\n",
        "108  0.000000    0.000000  0.000000\n",
        "\n",
        "[101 rows x 3 columns]\n"
       ]
      }
     ],
     "prompt_number": 17
    },
    {
     "cell_type": "code",
     "collapsed": false,
     "input": [
      "print nyt[nyt.Signed_In == 1].pivot_table(\n",
      "    values='column_of_ones',\n",
      "    index='Gender',\n",
      "    columns='Age',\n",
      "    aggfunc='count'\n",
      ")"
     ],
     "language": "python",
     "metadata": {},
     "outputs": [
      {
       "output_type": "stream",
       "stream": "stdout",
       "text": [
        "Age     7    8    9    10   11   12   13    14    15    16   ...   97   98   \\\n",
        "Gender                                                       ...              \n",
        "0         4    3   16   32   93  200  330   532   850  1050  ...     7    9   \n",
        "1         1   12   32   81  190  386  729  1186  1755  2393  ...     7    6   \n",
        "\n",
        "Age     99   100  101  102  103  104  107  108  \n",
        "Gender                                          \n",
        "0         5    1    2  NaN    1  NaN  NaN    1  \n",
        "1         4    3    2    2    1    1    2  NaN  \n",
        "\n",
        "[2 rows x 100 columns]\n"
       ]
      }
     ],
     "prompt_number": 18
    },
    {
     "cell_type": "markdown",
     "metadata": {},
     "source": [
      "Practice:\n",
      "\n",
      "1. Aggregate the mean and standard deviation (std) of Age when Signed_In equals 1\n",
      "2. Find the min values of Age for each value of Impressions\n",
      "3. Find the max values of Clicks for each value of Impressions\n",
      "4. Determine: Are Signed In users more or less likely to click thru on an ad?\n",
      "\n",
      "##Plotting\n",
      "matplotlib's core functionality serves as a plotting tool within python. While calling .describe() on DataFrames is useful to get a rough idea of what your data looks like, plots allow you to visualize what your data really looks like. For today, we'll use matplotlib within the context of pandas.\n",
      "\n",
      "Consider the following data set and code:"
     ]
    },
    {
     "cell_type": "code",
     "collapsed": false,
     "input": [
      "anscombe = pd.DataFrame({\n",
      "    'x' :  [10, 8, 13, 9, 11, 14, 6, 4, 12, 7, 5],\n",
      "    'y1' : [8.04, 6.95, 7.58, 8.81, 8.33, 9.96, 7.24, 4.26, 10.84, 4.82, 5.68],\n",
      "    'y2' : [9.14, 8.14, 8.74, 8.77, 9.26, 8.10, 6.13, 3.10, 9.13, 7.26, 4.74],\n",
      "    'y3' : [7.46, 6.77, 12.74, 7.11, 7.81, 8.84, 6.08, 5.39, 8.15, 6.42, 5.73],\n",
      "    'x4' : [8,8,8,8,8,8,8,19,8,8,8],\n",
      "    'y4' : [6.58,5.76,7.71,8.84,8.47,7.04,5.25,12.50,5.56,7.91,6.89],\n",
      "})\n",
      "\n",
      "anscombe.describe()"
     ],
     "language": "python",
     "metadata": {},
     "outputs": [
      {
       "html": [
        "<div style=\"max-height:1000px;max-width:1500px;overflow:auto;\">\n",
        "<table border=\"1\" class=\"dataframe\">\n",
        "  <thead>\n",
        "    <tr style=\"text-align: right;\">\n",
        "      <th></th>\n",
        "      <th>x</th>\n",
        "      <th>x4</th>\n",
        "      <th>y1</th>\n",
        "      <th>y2</th>\n",
        "      <th>y3</th>\n",
        "      <th>y4</th>\n",
        "    </tr>\n",
        "  </thead>\n",
        "  <tbody>\n",
        "    <tr>\n",
        "      <th>count</th>\n",
        "      <td> 11.000000</td>\n",
        "      <td> 11.000000</td>\n",
        "      <td> 11.000000</td>\n",
        "      <td> 11.000000</td>\n",
        "      <td> 11.000000</td>\n",
        "      <td> 11.000000</td>\n",
        "    </tr>\n",
        "    <tr>\n",
        "      <th>mean</th>\n",
        "      <td>  9.000000</td>\n",
        "      <td>  9.000000</td>\n",
        "      <td>  7.500909</td>\n",
        "      <td>  7.500909</td>\n",
        "      <td>  7.500000</td>\n",
        "      <td>  7.500909</td>\n",
        "    </tr>\n",
        "    <tr>\n",
        "      <th>std</th>\n",
        "      <td>  3.316625</td>\n",
        "      <td>  3.316625</td>\n",
        "      <td>  2.031568</td>\n",
        "      <td>  2.031657</td>\n",
        "      <td>  2.030424</td>\n",
        "      <td>  2.030579</td>\n",
        "    </tr>\n",
        "    <tr>\n",
        "      <th>min</th>\n",
        "      <td>  4.000000</td>\n",
        "      <td>  8.000000</td>\n",
        "      <td>  4.260000</td>\n",
        "      <td>  3.100000</td>\n",
        "      <td>  5.390000</td>\n",
        "      <td>  5.250000</td>\n",
        "    </tr>\n",
        "    <tr>\n",
        "      <th>25%</th>\n",
        "      <td>  6.500000</td>\n",
        "      <td>  8.000000</td>\n",
        "      <td>  6.315000</td>\n",
        "      <td>  6.695000</td>\n",
        "      <td>  6.250000</td>\n",
        "      <td>  6.170000</td>\n",
        "    </tr>\n",
        "    <tr>\n",
        "      <th>50%</th>\n",
        "      <td>  9.000000</td>\n",
        "      <td>  8.000000</td>\n",
        "      <td>  7.580000</td>\n",
        "      <td>  8.140000</td>\n",
        "      <td>  7.110000</td>\n",
        "      <td>  7.040000</td>\n",
        "    </tr>\n",
        "    <tr>\n",
        "      <th>75%</th>\n",
        "      <td> 11.500000</td>\n",
        "      <td>  8.000000</td>\n",
        "      <td>  8.570000</td>\n",
        "      <td>  8.950000</td>\n",
        "      <td>  7.980000</td>\n",
        "      <td>  8.190000</td>\n",
        "    </tr>\n",
        "    <tr>\n",
        "      <th>max</th>\n",
        "      <td> 14.000000</td>\n",
        "      <td> 19.000000</td>\n",
        "      <td> 10.840000</td>\n",
        "      <td>  9.260000</td>\n",
        "      <td> 12.740000</td>\n",
        "      <td> 12.500000</td>\n",
        "    </tr>\n",
        "  </tbody>\n",
        "</table>\n",
        "</div>"
       ],
       "metadata": {},
       "output_type": "pyout",
       "prompt_number": 19,
       "text": [
        "               x         x4         y1         y2         y3         y4\n",
        "count  11.000000  11.000000  11.000000  11.000000  11.000000  11.000000\n",
        "mean    9.000000   9.000000   7.500909   7.500909   7.500000   7.500909\n",
        "std     3.316625   3.316625   2.031568   2.031657   2.030424   2.030579\n",
        "min     4.000000   8.000000   4.260000   3.100000   5.390000   5.250000\n",
        "25%     6.500000   8.000000   6.315000   6.695000   6.250000   6.170000\n",
        "50%     9.000000   8.000000   7.580000   8.140000   7.110000   7.040000\n",
        "75%    11.500000   8.000000   8.570000   8.950000   7.980000   8.190000\n",
        "max    14.000000  19.000000  10.840000   9.260000  12.740000  12.500000"
       ]
      }
     ],
     "prompt_number": 19
    },
    {
     "cell_type": "markdown",
     "metadata": {},
     "source": [
      "Visually from creating the data frame you can tell the data looks different, yet in the .describe() call, the data shares very similar features. The two primary plotting tools we uses from matplotlib are histograms and scatterplots, which help us understand the shape of data."
     ]
    },
    {
     "cell_type": "code",
     "collapsed": false,
     "input": [
      "%matplotlib inline\n",
      "# above magic allows plots to show in our notebook.\n",
      "pd.options.display.mpl_style = 'default'\n",
      "\n",
      "for y in ['y1', 'y2', 'y3', 'y4']:\n",
      "    if y != 'y4':\n",
      "        print anscombe.plot(kind='scatter', x='x', y=y)\n",
      "    else:\n",
      "        print anscombe.plot(kind='scatter', x='x4', y=y)"
     ],
     "language": "python",
     "metadata": {},
     "outputs": [
      {
       "output_type": "stream",
       "stream": "stdout",
       "text": [
        "Axes(0.125,0.125;0.775x0.775)\n",
        "Axes(0.125,0.125;0.775x0.775)"
       ]
      },
      {
       "output_type": "stream",
       "stream": "stdout",
       "text": [
        "\n",
        "Axes(0.125,0.125;0.775x0.775)"
       ]
      },
      {
       "output_type": "stream",
       "stream": "stdout",
       "text": [
        "\n",
        "Axes(0.125,0.125;0.775x0.775)"
       ]
      },
      {
       "output_type": "stream",
       "stream": "stdout",
       "text": [
        "\n"
       ]
      },
      {
       "metadata": {},
       "output_type": "display_data",
       "png": "[encoded data removed]",
       "text": [
        "<matplotlib.figure.Figure at 0x1098bb590>"
       ]
      },
      {
       "metadata": {},
       "output_type": "display_data",
       "png": "[encoded data removed]",
       "text": [
        "<matplotlib.figure.Figure at 0x1098bb5d0>"
       ]
      },
      {
       "metadata": {},
       "output_type": "display_data",
       "png": "[encoded data removed]",
       "text": [
        "<matplotlib.figure.Figure at 0x10b30fb90>"
       ]
      },
      {
       "metadata": {},
       "output_type": "display_data",
       "png": "[encoded data removed]",
       "text": [
        "<matplotlib.figure.Figure at 0x10b30fb10>"
       ]
      }
     ],
     "prompt_number": 20
    },
    {
     "cell_type": "markdown",
     "metadata": {},
     "source": [
      "Use these new tools in order to visualize some of this New York Times ad performance data."
     ]
    },
    {
     "cell_type": "code",
     "collapsed": false,
     "input": [
      "print nyt[nyt.Signed_In == 1].Age.hist()"
     ],
     "language": "python",
     "metadata": {},
     "outputs": [
      {
       "output_type": "stream",
       "stream": "stdout",
       "text": [
        "Axes(0.125,0.125;0.775x0.775)\n"
       ]
      },
      {
       "metadata": {},
       "output_type": "display_data",
       "png": "[encoded data removed]",
       "text": [
        "<matplotlib.figure.Figure at 0x106ed1750>"
       ]
      }
     ],
     "prompt_number": 21
    },
    {
     "cell_type": "code",
     "collapsed": false,
     "input": [
      "print nyt[nyt.Signed_In == 1].Clicks.hist()"
     ],
     "language": "python",
     "metadata": {},
     "outputs": [
      {
       "output_type": "stream",
       "stream": "stdout",
       "text": [
        "Axes(0.125,0.125;0.775x0.775)\n"
       ]
      },
      {
       "metadata": {},
       "output_type": "display_data",
       "png": "[encoded data removed]",
       "text": [
        "<matplotlib.figure.Figure at 0x110b4d650>"
       ]
      }
     ],
     "prompt_number": 22
    },
    {
     "cell_type": "code",
     "collapsed": false,
     "input": [
      "nyt[nyt.Signed_In == 1].plot(kind='scatter', x='Age', y='Click_Thru')"
     ],
     "language": "python",
     "metadata": {},
     "outputs": [
      {
       "metadata": {},
       "output_type": "pyout",
       "prompt_number": 23,
       "text": [
        "<matplotlib.axes._subplots.AxesSubplot at 0x10d40aad0>"
       ]
      },
      {
       "metadata": {},
       "output_type": "display_data",
       "png": "[encoded data removed]",
       "text": [
        "<matplotlib.figure.Figure at 0x10d3ec610>"
       ]
      }
     ],
     "prompt_number": 23
    },
    {
     "cell_type": "markdown",
     "metadata": {},
     "source": [
      "##Independent Practice\n",
      "Practice doing much of the same functionality we did today with two of the four different data sets from here in small groups of 3 or 4.\n",
      "\n",
      "Primarily, your goals are to:\n",
      "\n",
      "- Show how to load a csv file into python\n",
      "- Use pandas to understand the numerical portions of the data\n",
      "- Use matplotlib to visualize the data\n",
      "- Use scikit-learn to fit the data to some dependent feature (y)\n",
      "\n",
      "Summarise your work with the following questions:\n",
      "\n",
      "1. What is the dataset about? What do the columns mean?\n",
      "2. What does the dataset look like?\n",
      "3. What data relationships can you find?\n",
      "4. Given those relationships/correlations, what does that help explain or help you understand about the data?\n",
      "\n",
      "We will come back as a class and have each group present their answers to the above to one of the data sets they explored.\n",
      "\n",
      "\n",
      "##Next Steps\n",
      "I encourage you to pick up and start reading the following books to continue learning about programming and data analytics.\n",
      "\n",
      "###Still uncomfortable with Python?\n",
      "That's okay! Continue practicing your python basics with [Learn Python the Hard Way](http://learnpythonthehardway.org/book/). It'll strengthen your chops. Do it multiple times\u2014you'll keep learning!\n",
      "\n",
      "###Feel like Pandas can revolutionize how you work?\n",
      "Purchase and read Wes McKinney's [Python for Data Analysis](http://shop.oreilly.com/product/0636920023784.do). It'll get you cranking on everything Wes did with Pandas and why it was designed the way it was.\n",
      "\n",
      "###Want to dig into why Data Science?\n",
      "Check out Provost and Fawcett's [Data Science for Business](http://www.amazon.com/Data-Science-Business-data-analytic-thinking/dp/1449361323). You'll start understanding more about the business practice of Data Science (vs the academic side) and some fundamentals about algorithm and stats application."
     ]
    },
    {
     "cell_type": "code",
     "collapsed": false,
     "input": [],
     "language": "python",
     "metadata": {},
     "outputs": []
    }
   ],
   "metadata": {}
  }
 ]
}